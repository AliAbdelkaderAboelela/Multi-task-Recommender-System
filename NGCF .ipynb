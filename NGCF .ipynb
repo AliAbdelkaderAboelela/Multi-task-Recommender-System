{
 "cells": [
  {
   "cell_type": "code",
   "execution_count": 21,
   "metadata": {},
   "outputs": [],
   "source": [
    "from tqdm import tqdm \n",
    "import os \n",
    "\n",
    "import numpy as np \n",
    "import pandas as pd\n",
    "\n",
    "import scipy.sparse  as sp \n",
    "\n",
    "from sklearn.model_selection import train_test_split \n",
    "\n",
    "import torch \n",
    "from torch import nn, optim \n",
    "from torch.utils.data import Dataset, DataLoader \n",
    "from sklearn.metrics import accuracy_score"
   ]
  },
  {
   "cell_type": "code",
   "execution_count": 2,
   "metadata": {},
   "outputs": [],
   "source": [
    "class args:\n",
    "    seed = 42\n",
    "    num_layers = 3\n",
    "    batch_size= 512\n",
    "    device = 'cuda' if torch.cuda.is_available() else 'cpu'\n",
    "    SAVE_PATH = 'Parameters'"
   ]
  },
  {
   "cell_type": "code",
   "execution_count": 3,
   "metadata": {},
   "outputs": [],
   "source": [
    "d_set = pd.read_csv('ctr_data_1M_sample.csv', encoding='utf-8-sig')"
   ]
  },
  {
   "cell_type": "code",
   "execution_count": 4,
   "metadata": {},
   "outputs": [],
   "source": [
    "d_train, d_test = train_test_split(d_set, train_size=0.6, random_state=args.seed)\n",
    "d_valid, d_test = train_test_split(d_test, train_size=0.5, random_state=args.seed)"
   ]
  },
  {
   "cell_type": "code",
   "execution_count": 5,
   "metadata": {},
   "outputs": [],
   "source": [
    "d_train = d_train.astype({'user_id':'category', 'item_id':'category'})\n",
    "d_valid = d_valid.astype({'user_id':'category', 'item_id':'category'})\n",
    "d_test = d_test.astype({'user_id':'category', 'item_id':'category'})"
   ]
  },
  {
   "cell_type": "code",
   "execution_count": 6,
   "metadata": {},
   "outputs": [],
   "source": [
    "u_cat = d_train.user_id.cat.categories\n",
    "b_cat = d_train.business_id.cat.categories"
   ]
  },
  {
   "cell_type": "code",
   "execution_count": 7,
   "metadata": {},
   "outputs": [],
   "source": [
    "d_valid.user_id = d_valid.user_id.cat.set_categories(u_cat)\n",
    "d_valid.business_id = d_valid.business_id.cat.set_categories(b_cat)\n",
    "\n",
    "d_test.user_id = d_test.user_id.cat.set_categories(u_cat)\n",
    "d_test.business_id = d_test.business_id.cat.set_categories(b_cat)"
   ]
  },
  {
   "cell_type": "code",
   "execution_count": 8,
   "metadata": {},
   "outputs": [],
   "source": [
    "d_train.user_id = d_train.user_id.cat.codes\n",
    "d_train.business_id = d_train.business_id.cat.codes \n",
    "\n",
    "d_valid.user_id = d_valid.user_id.cat.codes\n",
    "d_valid.business_id = d_valid.business_id.cat.codes \n",
    "\n",
    "d_test.user_id = d_test.user_id.cat.codes\n",
    "d_test.business_id = d_test.business_id.cat.codes "
   ]
  },
  {
   "cell_type": "code",
   "execution_count": 9,
   "metadata": {},
   "outputs": [],
   "source": [
    "d_train = d_train.dropna()\n",
    "d_valid = d_valid.dropna()\n",
    "d_test = d_test.dropna()\n",
    "\n",
    "d_train.reset_index(drop=True, inplace=True)\n",
    "d_valid.reset_index(drop=True, inplace=True)\n",
    "d_test.reset_index(drop=True, inplace=True)"
   ]
  },
  {
   "cell_type": "code",
   "execution_count": 10,
   "metadata": {},
   "outputs": [],
   "source": [
    "d_train = d_train.astype({'user_id': int, 'item_id': int})\n",
    "d_valid = d_valid.astype({'user_id': int, 'item_id': int})\n",
    "d_test = d_test.astype({'user_id': int, 'item_id': int})"
   ]
  },
  {
   "cell_type": "code",
   "execution_count": 11,
   "metadata": {},
   "outputs": [],
   "source": [
    "args.num_users = d_train.user_id.max() + 1\n",
    "args.num_items = d_train.business_id.max() + 1\n",
    "args.latent_dim = 64\n",
    "args.num_epochs = 50"
   ]
  },
  {
   "cell_type": "code",
   "execution_count": 12,
   "metadata": {},
   "outputs": [],
   "source": [
    "class GNNLayer(nn.Module):\n",
    "    def __init__(self, in_feats, out_feats):\n",
    "        super(GNNLayer, self).__init__()\n",
    "        self.in_feats = in_feats\n",
    "        self.out_feats = out_feats \n",
    "\n",
    "        self.W1 = nn.Linear(in_feats, out_feats)\n",
    "        self.W2 = nn.Linear(in_feats, out_feats)\n",
    "\n",
    "    def forward(self, L, SelfLoop, feats):\n",
    "        # (L+I)EW_1\n",
    "        sf_L = L + SelfLoop\n",
    "        L = L.cuda()\n",
    "        sf_L = sf_L.cuda()\n",
    "        sf_E = torch.sparse.mm(sf_L, feats)\n",
    "        left_part = self.W1(sf_E) # left part\n",
    "\n",
    "        # EL odot EW_2, odot indicates element-wise product \n",
    "        LE = torch.sparse.mm(L, feats)\n",
    "        E = torch.mul(LE, feats)\n",
    "        right_part = self.W2(E)\n",
    "\n",
    "        return left_part + right_part \n",
    "\n",
    "class NGCF(nn.Module):\n",
    "    def __init__(self, args, matrix):\n",
    "        super(NGCF, self).__init__()\n",
    "        self.num_users = args.num_users \n",
    "        self.num_items = args.num_items \n",
    "        self.latent_dim = args.latent_dim \n",
    "        self.device = args.device\n",
    "\n",
    "        self.user_emb = nn.Embedding(self.num_users, self.latent_dim)\n",
    "        self.item_emb = nn.Embedding(self.num_items, self.latent_dim)\n",
    "\n",
    "        self.num_layers = args.num_layers\n",
    "        self.L = self.LaplacianMatrix(matrix)\n",
    "        self.I = self.SelfLoop(self.num_users + self.num_items)\n",
    "\n",
    "        self.leakyrelu = nn.LeakyReLU()\n",
    "        self.GNNLayers = nn.ModuleList()\n",
    "\n",
    "        for i in range(self.num_layers-1):\n",
    "            self.GNNLayers.append(GNNLayer(self.latent_dim, self.latent_dim))\n",
    "\n",
    "        self.fc_layer = nn.Sequential(\n",
    "            nn.Linear(self.latent_dim * self.num_layers * 2, 64), \n",
    "            nn.ReLU(), \n",
    "            nn.Linear(64, 32), \n",
    "            nn.ReLU(), \n",
    "            nn.Linear(32, 1)\n",
    "        )\n",
    "\n",
    "    def SelfLoop(self, num):\n",
    "        i = torch.LongTensor([[k for k in range(0, num)], [j for j in range(0, num)]])\n",
    "        val = torch.FloatTensor([1]*num)\n",
    "        return torch.sparse.FloatTensor(i, val)\n",
    "\n",
    "    def LaplacianMatrix(self, ratings):\n",
    "        iids = ratings['item_id'] + self.num_users \n",
    "        matrix = sp.coo_matrix((ratings['click'], (ratings['user_id'], ratings['item_id'])))\n",
    "        \n",
    "        upper_matrix = sp.coo_matrix((ratings['click'], (ratings['user_id'], iids)))\n",
    "        lower_matrix = matrix.transpose()\n",
    "        lower_matrix.resize((self.num_items, self.num_users + self.num_items))\n",
    "\n",
    "        A = sp.vstack([upper_matrix, lower_matrix])\n",
    "        row_sum = (A > 0).sum(axis=1)\n",
    "        # row_sum = np.array(row_sum).flatten()\n",
    "        diag = list(np.array(row_sum.flatten())[0])\n",
    "        D = np.power(diag, -0.5)\n",
    "        D = sp.diags(D)\n",
    "        L = D * A * D\n",
    "        L = sp.coo_matrix(L)\n",
    "        row = L.row \n",
    "        col = L.col\n",
    "        idx = np.stack([row, col])\n",
    "        idx = torch.LongTensor(idx)\n",
    "        data = torch.FloatTensor(L.data)\n",
    "        SparseL = torch.sparse.FloatTensor(idx, data)\n",
    "        return SparseL \n",
    "\n",
    "    def FeatureMatrix(self):\n",
    "        uids = torch.LongTensor([i for i in range(self.num_users)]).to(self.device)\n",
    "        iids = torch.LongTensor([i for i in range(self.num_items)]).to(self.device)\n",
    "        user_emb = self.user_emb(uids)\n",
    "        item_emb = self.item_emb(iids)\n",
    "        features = torch.cat([user_emb, item_emb], dim=0)\n",
    "        return features\n",
    "\n",
    "    def forward(self, uids, iids):\n",
    "        iids = self.num_users + iids \n",
    "\n",
    "        features = self.FeatureMatrix()\n",
    "        final_emb = features.clone()\n",
    "\n",
    "        for gnn in self.GNNLayers:\n",
    "            features = gnn(self.L, self.I, features)\n",
    "            features = self.leakyrelu(features)\n",
    "            final_emb = torch.concat([final_emb, features],dim=-1)\n",
    "\n",
    "        user_emb = final_emb[uids]\n",
    "        item_emb = final_emb[iids]\n",
    "\n",
    "        inputs = torch.concat([user_emb, item_emb], dim=-1)\n",
    "        outs = self.fc_layer(inputs)\n",
    "        return outs.flatten()"
   ]
  },
  {
   "cell_type": "code",
   "execution_count": 13,
   "metadata": {},
   "outputs": [],
   "source": [
    "class GraphDataset(Dataset):\n",
    "    def __init__(self, dataframe):\n",
    "        super(Dataset, self).__init__()\n",
    "        \n",
    "        self.uid = list(dataframe['user_id'])\n",
    "        self.iid = list(dataframe['business_id'])\n",
    "        self.ratings = list(dataframe['click'])\n",
    "    \n",
    "    def __len__(self):\n",
    "        return len(self.uid)\n",
    "    \n",
    "    def __getitem__(self, idx):\n",
    "        uid = self.uid[idx]\n",
    "        iid = self.iid[idx]\n",
    "        rating = self.ratings[idx]\n",
    "        \n",
    "        return (uid, iid, rating)"
   ]
  },
  {
   "cell_type": "code",
   "execution_count": 14,
   "metadata": {},
   "outputs": [],
   "source": [
    "def get_loader(args, dataset, num_workers):\n",
    "    d_set = GraphDataset(dataset)\n",
    "    return DataLoader(d_set, batch_size=args.batch_size, num_workers=num_workers)"
   ]
  },
  {
   "cell_type": "code",
   "execution_count": 15,
   "metadata": {},
   "outputs": [],
   "source": [
    "train_loader = get_loader(args, d_train, 4)\n",
    "valid_loader = get_loader(args, d_valid, 4)\n",
    "test_loader = get_loader(args, d_test, 4)"
   ]
  },
  {
   "cell_type": "code",
   "execution_count": 35,
   "metadata": {},
   "outputs": [],
   "source": [
    "def graph_evaluate(args, model, test_loader, criterion):\n",
    "    output = []\n",
    "    test_loss = 0\n",
    "\n",
    "    model.eval()\n",
    "    with torch.no_grad():\n",
    "        for batch in tqdm(test_loader, desc='evaluating...'):\n",
    "            batch = tuple(b.to(args.device) for b in batch)\n",
    "            inputs = {'uids':   batch[0], \n",
    "                      'iids':   batch[1]}\n",
    "            gold_y = batch[2].float()\n",
    "            \n",
    "            pred_y = model(**inputs)\n",
    "            output.append(pred_y)\n",
    "            \n",
    "            loss = criterion(pred_y, gold_y)\n",
    "            loss = torch.sqrt(loss)\n",
    "            test_loss += loss.item()\n",
    "    test_loss /= len(test_loader)\n",
    "    print(f'Test Loss: {test_loss:.4f}')\n",
    "    return test_loss, output"
   ]
  },
  {
   "cell_type": "code",
   "execution_count": 28,
   "metadata": {},
   "outputs": [],
   "source": [
    "def graph_train(args, model, train_loader, valid_loader, optimizer, criterion):\n",
    "    best_loss = float('inf')\n",
    "    train_losses, valid_losses = [], []\n",
    "    for epoch in range(1, args.num_epochs + 1):\n",
    "        train_loss = 0.0\n",
    "\n",
    "        model.train()\n",
    "        for batch in tqdm(train_loader, desc='training...'):\n",
    "            batch = tuple(b.to(args.device) for b in batch)\n",
    "            inputs = {'uids':   batch[0], \n",
    "                      'iids':   batch[1]}\n",
    "            \n",
    "            gold_y = batch[2].float()\n",
    "            \n",
    "\n",
    "            pred_y = model(**inputs)\n",
    "            \n",
    "            loss = criterion(pred_y, gold_y)\n",
    "            loss = torch.sqrt(loss)\n",
    "            optimizer.zero_grad()\n",
    "            loss.backward()\n",
    "            optimizer.step()\n",
    "            train_loss += loss.item()\n",
    "        train_loss /= len(train_loader)\n",
    "        train_losses.append(train_loss)\n",
    "\n",
    "        valid_loss , outputs = graph_evaluate(args, model, valid_loader, criterion)\n",
    "        valid_losses.append(valid_loss)\n",
    "        \n",
    "\n",
    "        print(f'Epoch: [{epoch}/{args.num_epochs}]')\n",
    "        print(f'Train Loss: {train_loss:.4f}\\tValid Loss: {valid_loss:.4f}')\n",
    "\n",
    "        if best_loss > valid_loss:\n",
    "            best_loss = valid_loss\n",
    "            if not os.path.exists(args.SAVE_PATH):\n",
    "                os.makedirs(args.SAVE_PATH)\n",
    "            torch.save(model.state_dict(), os.path.join(args.SAVE_PATH, f'{model._get_name()}_parameters.pt'))\n",
    "\n",
    "    return {\n",
    "        'train_loss': train_losses, \n",
    "        'valid_loss': valid_losses\n",
    "    }, outputs"
   ]
  },
  {
   "cell_type": "code",
   "execution_count": 29,
   "metadata": {},
   "outputs": [],
   "source": [
    "models = NGCF(args, d_train).to(args.device)\n",
    "\n",
    "optimizer = optim.Adam(models.parameters(), lr = 1e-3)\n",
    "criterion = nn.L1Loss()"
   ]
  },
  {
   "cell_type": "code",
   "execution_count": 30,
   "metadata": {},
   "outputs": [
    {
     "name": "stderr",
     "output_type": "stream",
     "text": [
      "training...: 100%|██████████| 59/59 [00:16<00:00,  3.60it/s]\n",
      "evaluating...: 100%|██████████| 20/20 [00:05<00:00,  3.34it/s]\n"
     ]
    },
    {
     "name": "stdout",
     "output_type": "stream",
     "text": [
      "Epoch: [1/50]\n",
      "Train Loss: 1.0726\tValid Loss: 1.1038\n"
     ]
    },
    {
     "name": "stderr",
     "output_type": "stream",
     "text": [
      "training...: 100%|██████████| 59/59 [00:16<00:00,  3.58it/s]\n",
      "evaluating...: 100%|██████████| 20/20 [00:05<00:00,  3.41it/s]\n"
     ]
    },
    {
     "name": "stdout",
     "output_type": "stream",
     "text": [
      "Epoch: [2/50]\n",
      "Train Loss: 0.8382\tValid Loss: 1.0829\n"
     ]
    },
    {
     "name": "stderr",
     "output_type": "stream",
     "text": [
      "training...: 100%|██████████| 59/59 [00:16<00:00,  3.52it/s]\n",
      "evaluating...: 100%|██████████| 20/20 [00:05<00:00,  3.34it/s]\n"
     ]
    },
    {
     "name": "stdout",
     "output_type": "stream",
     "text": [
      "Epoch: [3/50]\n",
      "Train Loss: 0.8076\tValid Loss: 1.0725\n"
     ]
    },
    {
     "name": "stderr",
     "output_type": "stream",
     "text": [
      "training...: 100%|██████████| 59/59 [00:16<00:00,  3.57it/s]\n",
      "evaluating...: 100%|██████████| 20/20 [00:05<00:00,  3.34it/s]\n"
     ]
    },
    {
     "name": "stdout",
     "output_type": "stream",
     "text": [
      "Epoch: [4/50]\n",
      "Train Loss: 0.7908\tValid Loss: 1.1175\n"
     ]
    },
    {
     "name": "stderr",
     "output_type": "stream",
     "text": [
      "training...: 100%|██████████| 59/59 [00:16<00:00,  3.57it/s]\n",
      "evaluating...: 100%|██████████| 20/20 [00:05<00:00,  3.53it/s]\n"
     ]
    },
    {
     "name": "stdout",
     "output_type": "stream",
     "text": [
      "Epoch: [5/50]\n",
      "Train Loss: 0.7767\tValid Loss: 1.1211\n"
     ]
    },
    {
     "name": "stderr",
     "output_type": "stream",
     "text": [
      "training...: 100%|██████████| 59/59 [00:16<00:00,  3.65it/s]\n",
      "evaluating...: 100%|██████████| 20/20 [00:05<00:00,  3.53it/s]\n"
     ]
    },
    {
     "name": "stdout",
     "output_type": "stream",
     "text": [
      "Epoch: [6/50]\n",
      "Train Loss: 0.7662\tValid Loss: 1.1060\n"
     ]
    },
    {
     "name": "stderr",
     "output_type": "stream",
     "text": [
      "training...: 100%|██████████| 59/59 [00:16<00:00,  3.62it/s]\n",
      "evaluating...: 100%|██████████| 20/20 [00:06<00:00,  3.21it/s]\n"
     ]
    },
    {
     "name": "stdout",
     "output_type": "stream",
     "text": [
      "Epoch: [7/50]\n",
      "Train Loss: 0.7536\tValid Loss: 1.1010\n"
     ]
    },
    {
     "name": "stderr",
     "output_type": "stream",
     "text": [
      "training...: 100%|██████████| 59/59 [00:16<00:00,  3.57it/s]\n",
      "evaluating...: 100%|██████████| 20/20 [00:05<00:00,  3.38it/s]\n"
     ]
    },
    {
     "name": "stdout",
     "output_type": "stream",
     "text": [
      "Epoch: [8/50]\n",
      "Train Loss: 0.7598\tValid Loss: 1.1177\n"
     ]
    },
    {
     "name": "stderr",
     "output_type": "stream",
     "text": [
      "training...: 100%|██████████| 59/59 [00:16<00:00,  3.59it/s]\n",
      "evaluating...: 100%|██████████| 20/20 [00:06<00:00,  3.31it/s]\n"
     ]
    },
    {
     "name": "stdout",
     "output_type": "stream",
     "text": [
      "Epoch: [9/50]\n",
      "Train Loss: 0.7361\tValid Loss: 1.2078\n"
     ]
    },
    {
     "name": "stderr",
     "output_type": "stream",
     "text": [
      "training...: 100%|██████████| 59/59 [00:16<00:00,  3.66it/s]\n",
      "evaluating...: 100%|██████████| 20/20 [00:05<00:00,  3.34it/s]\n"
     ]
    },
    {
     "name": "stdout",
     "output_type": "stream",
     "text": [
      "Epoch: [10/50]\n",
      "Train Loss: 0.7070\tValid Loss: 1.2295\n"
     ]
    },
    {
     "name": "stderr",
     "output_type": "stream",
     "text": [
      "training...: 100%|██████████| 59/59 [00:16<00:00,  3.60it/s]\n",
      "evaluating...: 100%|██████████| 20/20 [00:05<00:00,  3.41it/s]\n"
     ]
    },
    {
     "name": "stdout",
     "output_type": "stream",
     "text": [
      "Epoch: [11/50]\n",
      "Train Loss: 0.6989\tValid Loss: 1.1821\n"
     ]
    },
    {
     "name": "stderr",
     "output_type": "stream",
     "text": [
      "training...: 100%|██████████| 59/59 [00:16<00:00,  3.63it/s]\n",
      "evaluating...: 100%|██████████| 20/20 [00:05<00:00,  3.37it/s]\n"
     ]
    },
    {
     "name": "stdout",
     "output_type": "stream",
     "text": [
      "Epoch: [12/50]\n",
      "Train Loss: 0.7134\tValid Loss: 1.1720\n"
     ]
    },
    {
     "name": "stderr",
     "output_type": "stream",
     "text": [
      "training...: 100%|██████████| 59/59 [00:16<00:00,  3.60it/s]\n",
      "evaluating...: 100%|██████████| 20/20 [00:05<00:00,  3.38it/s]\n"
     ]
    },
    {
     "name": "stdout",
     "output_type": "stream",
     "text": [
      "Epoch: [13/50]\n",
      "Train Loss: 0.7078\tValid Loss: 1.2247\n"
     ]
    },
    {
     "name": "stderr",
     "output_type": "stream",
     "text": [
      "training...: 100%|██████████| 59/59 [00:16<00:00,  3.66it/s]\n",
      "evaluating...: 100%|██████████| 20/20 [00:05<00:00,  3.34it/s]\n"
     ]
    },
    {
     "name": "stdout",
     "output_type": "stream",
     "text": [
      "Epoch: [14/50]\n",
      "Train Loss: 0.6758\tValid Loss: 1.1600\n"
     ]
    },
    {
     "name": "stderr",
     "output_type": "stream",
     "text": [
      "training...: 100%|██████████| 59/59 [00:16<00:00,  3.57it/s]\n",
      "evaluating...: 100%|██████████| 20/20 [00:05<00:00,  3.35it/s]\n"
     ]
    },
    {
     "name": "stdout",
     "output_type": "stream",
     "text": [
      "Epoch: [15/50]\n",
      "Train Loss: 0.6739\tValid Loss: 1.1414\n"
     ]
    },
    {
     "name": "stderr",
     "output_type": "stream",
     "text": [
      "training...: 100%|██████████| 59/59 [00:16<00:00,  3.60it/s]\n",
      "evaluating...: 100%|██████████| 20/20 [00:06<00:00,  3.27it/s]\n"
     ]
    },
    {
     "name": "stdout",
     "output_type": "stream",
     "text": [
      "Epoch: [16/50]\n",
      "Train Loss: 0.6991\tValid Loss: 1.2335\n"
     ]
    },
    {
     "name": "stderr",
     "output_type": "stream",
     "text": [
      "training...: 100%|██████████| 59/59 [00:16<00:00,  3.61it/s]\n",
      "evaluating...: 100%|██████████| 20/20 [00:06<00:00,  3.33it/s]\n"
     ]
    },
    {
     "name": "stdout",
     "output_type": "stream",
     "text": [
      "Epoch: [17/50]\n",
      "Train Loss: 0.6714\tValid Loss: 1.3044\n"
     ]
    },
    {
     "name": "stderr",
     "output_type": "stream",
     "text": [
      "training...: 100%|██████████| 59/59 [00:16<00:00,  3.55it/s]\n",
      "evaluating...: 100%|██████████| 20/20 [00:05<00:00,  3.41it/s]\n"
     ]
    },
    {
     "name": "stdout",
     "output_type": "stream",
     "text": [
      "Epoch: [18/50]\n",
      "Train Loss: 0.6376\tValid Loss: 1.3136\n"
     ]
    },
    {
     "name": "stderr",
     "output_type": "stream",
     "text": [
      "training...: 100%|██████████| 59/59 [00:15<00:00,  3.70it/s]\n",
      "evaluating...: 100%|██████████| 20/20 [00:06<00:00,  3.29it/s]\n"
     ]
    },
    {
     "name": "stdout",
     "output_type": "stream",
     "text": [
      "Epoch: [19/50]\n",
      "Train Loss: 0.6016\tValid Loss: 1.3371\n"
     ]
    },
    {
     "name": "stderr",
     "output_type": "stream",
     "text": [
      "training...: 100%|██████████| 59/59 [00:15<00:00,  3.73it/s]\n",
      "evaluating...: 100%|██████████| 20/20 [00:05<00:00,  3.47it/s]\n"
     ]
    },
    {
     "name": "stdout",
     "output_type": "stream",
     "text": [
      "Epoch: [20/50]\n",
      "Train Loss: 0.6532\tValid Loss: 1.3117\n"
     ]
    },
    {
     "name": "stderr",
     "output_type": "stream",
     "text": [
      "training...: 100%|██████████| 59/59 [00:16<00:00,  3.62it/s]\n",
      "evaluating...: 100%|██████████| 20/20 [00:05<00:00,  3.34it/s]\n"
     ]
    },
    {
     "name": "stdout",
     "output_type": "stream",
     "text": [
      "Epoch: [21/50]\n",
      "Train Loss: 0.6467\tValid Loss: 1.2813\n"
     ]
    },
    {
     "name": "stderr",
     "output_type": "stream",
     "text": [
      "training...: 100%|██████████| 59/59 [00:16<00:00,  3.62it/s]\n",
      "evaluating...: 100%|██████████| 20/20 [00:05<00:00,  3.45it/s]\n"
     ]
    },
    {
     "name": "stdout",
     "output_type": "stream",
     "text": [
      "Epoch: [22/50]\n",
      "Train Loss: 0.6415\tValid Loss: 1.2959\n"
     ]
    },
    {
     "name": "stderr",
     "output_type": "stream",
     "text": [
      "training...: 100%|██████████| 59/59 [00:15<00:00,  3.73it/s]\n",
      "evaluating...: 100%|██████████| 20/20 [00:05<00:00,  3.46it/s]\n"
     ]
    },
    {
     "name": "stdout",
     "output_type": "stream",
     "text": [
      "Epoch: [23/50]\n",
      "Train Loss: 0.6651\tValid Loss: 1.1913\n"
     ]
    },
    {
     "name": "stderr",
     "output_type": "stream",
     "text": [
      "training...: 100%|██████████| 59/59 [00:16<00:00,  3.64it/s]\n",
      "evaluating...: 100%|██████████| 20/20 [00:05<00:00,  3.39it/s]\n"
     ]
    },
    {
     "name": "stdout",
     "output_type": "stream",
     "text": [
      "Epoch: [24/50]\n",
      "Train Loss: 0.6558\tValid Loss: 1.2088\n"
     ]
    },
    {
     "name": "stderr",
     "output_type": "stream",
     "text": [
      "training...: 100%|██████████| 59/59 [00:16<00:00,  3.62it/s]\n",
      "evaluating...: 100%|██████████| 20/20 [00:05<00:00,  3.39it/s]\n"
     ]
    },
    {
     "name": "stdout",
     "output_type": "stream",
     "text": [
      "Epoch: [25/50]\n",
      "Train Loss: 0.6284\tValid Loss: 1.2425\n"
     ]
    },
    {
     "name": "stderr",
     "output_type": "stream",
     "text": [
      "training...: 100%|██████████| 59/59 [00:16<00:00,  3.67it/s]\n",
      "evaluating...: 100%|██████████| 20/20 [00:05<00:00,  3.45it/s]\n"
     ]
    },
    {
     "name": "stdout",
     "output_type": "stream",
     "text": [
      "Epoch: [26/50]\n",
      "Train Loss: 0.6127\tValid Loss: 1.3183\n"
     ]
    },
    {
     "name": "stderr",
     "output_type": "stream",
     "text": [
      "training...: 100%|██████████| 59/59 [00:16<00:00,  3.59it/s]\n",
      "evaluating...: 100%|██████████| 20/20 [00:05<00:00,  3.39it/s]\n"
     ]
    },
    {
     "name": "stdout",
     "output_type": "stream",
     "text": [
      "Epoch: [27/50]\n",
      "Train Loss: 0.6138\tValid Loss: 1.3811\n"
     ]
    },
    {
     "name": "stderr",
     "output_type": "stream",
     "text": [
      "training...: 100%|██████████| 59/59 [00:16<00:00,  3.65it/s]\n",
      "evaluating...: 100%|██████████| 20/20 [00:06<00:00,  3.27it/s]\n"
     ]
    },
    {
     "name": "stdout",
     "output_type": "stream",
     "text": [
      "Epoch: [28/50]\n",
      "Train Loss: 0.6160\tValid Loss: 1.3640\n"
     ]
    },
    {
     "name": "stderr",
     "output_type": "stream",
     "text": [
      "training...: 100%|██████████| 59/59 [00:16<00:00,  3.68it/s]\n",
      "evaluating...: 100%|██████████| 20/20 [00:06<00:00,  3.33it/s]\n"
     ]
    },
    {
     "name": "stdout",
     "output_type": "stream",
     "text": [
      "Epoch: [29/50]\n",
      "Train Loss: 0.6117\tValid Loss: 1.3171\n"
     ]
    },
    {
     "name": "stderr",
     "output_type": "stream",
     "text": [
      "training...: 100%|██████████| 59/59 [00:15<00:00,  3.69it/s]\n",
      "evaluating...: 100%|██████████| 20/20 [00:05<00:00,  3.58it/s]\n"
     ]
    },
    {
     "name": "stdout",
     "output_type": "stream",
     "text": [
      "Epoch: [30/50]\n",
      "Train Loss: 0.6065\tValid Loss: 1.2582\n"
     ]
    },
    {
     "name": "stderr",
     "output_type": "stream",
     "text": [
      "training...: 100%|██████████| 59/59 [00:16<00:00,  3.62it/s]\n",
      "evaluating...: 100%|██████████| 20/20 [00:05<00:00,  3.42it/s]\n"
     ]
    },
    {
     "name": "stdout",
     "output_type": "stream",
     "text": [
      "Epoch: [31/50]\n",
      "Train Loss: 0.5888\tValid Loss: 1.2218\n"
     ]
    },
    {
     "name": "stderr",
     "output_type": "stream",
     "text": [
      "training...: 100%|██████████| 59/59 [00:16<00:00,  3.69it/s]\n",
      "evaluating...: 100%|██████████| 20/20 [00:05<00:00,  3.36it/s]\n"
     ]
    },
    {
     "name": "stdout",
     "output_type": "stream",
     "text": [
      "Epoch: [32/50]\n",
      "Train Loss: 0.5966\tValid Loss: 1.2557\n"
     ]
    },
    {
     "name": "stderr",
     "output_type": "stream",
     "text": [
      "training...: 100%|██████████| 59/59 [00:16<00:00,  3.65it/s]\n",
      "evaluating...: 100%|██████████| 20/20 [00:05<00:00,  3.34it/s]\n"
     ]
    },
    {
     "name": "stdout",
     "output_type": "stream",
     "text": [
      "Epoch: [33/50]\n",
      "Train Loss: 0.5855\tValid Loss: 1.2473\n"
     ]
    },
    {
     "name": "stderr",
     "output_type": "stream",
     "text": [
      "training...: 100%|██████████| 59/59 [00:16<00:00,  3.51it/s]\n",
      "evaluating...: 100%|██████████| 20/20 [00:05<00:00,  3.35it/s]\n"
     ]
    },
    {
     "name": "stdout",
     "output_type": "stream",
     "text": [
      "Epoch: [34/50]\n",
      "Train Loss: 0.6047\tValid Loss: 1.1887\n"
     ]
    },
    {
     "name": "stderr",
     "output_type": "stream",
     "text": [
      "training...: 100%|██████████| 59/59 [00:16<00:00,  3.62it/s]\n",
      "evaluating...: 100%|██████████| 20/20 [00:06<00:00,  3.33it/s]\n"
     ]
    },
    {
     "name": "stdout",
     "output_type": "stream",
     "text": [
      "Epoch: [35/50]\n",
      "Train Loss: 0.5436\tValid Loss: 1.2267\n"
     ]
    },
    {
     "name": "stderr",
     "output_type": "stream",
     "text": [
      "training...: 100%|██████████| 59/59 [00:15<00:00,  3.84it/s]\n",
      "evaluating...: 100%|██████████| 20/20 [00:06<00:00,  3.17it/s]\n"
     ]
    },
    {
     "name": "stdout",
     "output_type": "stream",
     "text": [
      "Epoch: [36/50]\n",
      "Train Loss: 0.4763\tValid Loss: 1.2444\n"
     ]
    },
    {
     "name": "stderr",
     "output_type": "stream",
     "text": [
      "training...: 100%|██████████| 59/59 [00:16<00:00,  3.63it/s]\n",
      "evaluating...: 100%|██████████| 20/20 [00:05<00:00,  3.45it/s]\n"
     ]
    },
    {
     "name": "stdout",
     "output_type": "stream",
     "text": [
      "Epoch: [37/50]\n",
      "Train Loss: 0.4611\tValid Loss: 1.2241\n"
     ]
    },
    {
     "name": "stderr",
     "output_type": "stream",
     "text": [
      "training...: 100%|██████████| 59/59 [00:16<00:00,  3.63it/s]\n",
      "evaluating...: 100%|██████████| 20/20 [00:06<00:00,  3.33it/s]\n"
     ]
    },
    {
     "name": "stdout",
     "output_type": "stream",
     "text": [
      "Epoch: [38/50]\n",
      "Train Loss: 0.4726\tValid Loss: 1.2062\n"
     ]
    },
    {
     "name": "stderr",
     "output_type": "stream",
     "text": [
      "training...: 100%|██████████| 59/59 [00:15<00:00,  3.71it/s]\n",
      "evaluating...: 100%|██████████| 20/20 [00:06<00:00,  3.28it/s]\n"
     ]
    },
    {
     "name": "stdout",
     "output_type": "stream",
     "text": [
      "Epoch: [39/50]\n",
      "Train Loss: 0.5540\tValid Loss: 1.1978\n"
     ]
    },
    {
     "name": "stderr",
     "output_type": "stream",
     "text": [
      "training...: 100%|██████████| 59/59 [00:16<00:00,  3.67it/s]\n",
      "evaluating...: 100%|██████████| 20/20 [00:05<00:00,  3.44it/s]\n"
     ]
    },
    {
     "name": "stdout",
     "output_type": "stream",
     "text": [
      "Epoch: [40/50]\n",
      "Train Loss: 0.5412\tValid Loss: 1.1936\n"
     ]
    },
    {
     "name": "stderr",
     "output_type": "stream",
     "text": [
      "training...: 100%|██████████| 59/59 [00:16<00:00,  3.60it/s]\n",
      "evaluating...: 100%|██████████| 20/20 [00:06<00:00,  3.29it/s]\n"
     ]
    },
    {
     "name": "stdout",
     "output_type": "stream",
     "text": [
      "Epoch: [41/50]\n",
      "Train Loss: 0.5073\tValid Loss: 1.2098\n"
     ]
    },
    {
     "name": "stderr",
     "output_type": "stream",
     "text": [
      "training...: 100%|██████████| 59/59 [00:16<00:00,  3.62it/s]\n",
      "evaluating...: 100%|██████████| 20/20 [00:06<00:00,  3.33it/s]\n"
     ]
    },
    {
     "name": "stdout",
     "output_type": "stream",
     "text": [
      "Epoch: [42/50]\n",
      "Train Loss: 0.5472\tValid Loss: 1.2192\n"
     ]
    },
    {
     "name": "stderr",
     "output_type": "stream",
     "text": [
      "training...: 100%|██████████| 59/59 [00:16<00:00,  3.61it/s]\n",
      "evaluating...: 100%|██████████| 20/20 [00:06<00:00,  3.26it/s]\n"
     ]
    },
    {
     "name": "stdout",
     "output_type": "stream",
     "text": [
      "Epoch: [43/50]\n",
      "Train Loss: 0.4687\tValid Loss: 1.2083\n"
     ]
    },
    {
     "name": "stderr",
     "output_type": "stream",
     "text": [
      "training...: 100%|██████████| 59/59 [00:16<00:00,  3.63it/s]\n",
      "evaluating...: 100%|██████████| 20/20 [00:06<00:00,  3.25it/s]\n"
     ]
    },
    {
     "name": "stdout",
     "output_type": "stream",
     "text": [
      "Epoch: [44/50]\n",
      "Train Loss: 0.5626\tValid Loss: 1.2790\n"
     ]
    },
    {
     "name": "stderr",
     "output_type": "stream",
     "text": [
      "training...: 100%|██████████| 59/59 [00:16<00:00,  3.64it/s]\n",
      "evaluating...: 100%|██████████| 20/20 [00:05<00:00,  3.40it/s]\n"
     ]
    },
    {
     "name": "stdout",
     "output_type": "stream",
     "text": [
      "Epoch: [45/50]\n",
      "Train Loss: 0.6372\tValid Loss: 1.2914\n"
     ]
    },
    {
     "name": "stderr",
     "output_type": "stream",
     "text": [
      "training...: 100%|██████████| 59/59 [00:16<00:00,  3.58it/s]\n",
      "evaluating...: 100%|██████████| 20/20 [00:05<00:00,  3.34it/s]\n"
     ]
    },
    {
     "name": "stdout",
     "output_type": "stream",
     "text": [
      "Epoch: [46/50]\n",
      "Train Loss: 0.6244\tValid Loss: 1.2812\n"
     ]
    },
    {
     "name": "stderr",
     "output_type": "stream",
     "text": [
      "training...: 100%|██████████| 59/59 [00:16<00:00,  3.67it/s]\n",
      "evaluating...: 100%|██████████| 20/20 [00:05<00:00,  3.45it/s]\n"
     ]
    },
    {
     "name": "stdout",
     "output_type": "stream",
     "text": [
      "Epoch: [47/50]\n",
      "Train Loss: 0.5442\tValid Loss: 1.2597\n"
     ]
    },
    {
     "name": "stderr",
     "output_type": "stream",
     "text": [
      "training...: 100%|██████████| 59/59 [00:16<00:00,  3.62it/s]\n",
      "evaluating...: 100%|██████████| 20/20 [00:05<00:00,  3.37it/s]\n"
     ]
    },
    {
     "name": "stdout",
     "output_type": "stream",
     "text": [
      "Epoch: [48/50]\n",
      "Train Loss: 0.5128\tValid Loss: 1.2910\n"
     ]
    },
    {
     "name": "stderr",
     "output_type": "stream",
     "text": [
      "training...: 100%|██████████| 59/59 [00:15<00:00,  3.75it/s]\n",
      "evaluating...: 100%|██████████| 20/20 [00:05<00:00,  3.51it/s]\n"
     ]
    },
    {
     "name": "stdout",
     "output_type": "stream",
     "text": [
      "Epoch: [49/50]\n",
      "Train Loss: 0.5396\tValid Loss: 1.3129\n"
     ]
    },
    {
     "name": "stderr",
     "output_type": "stream",
     "text": [
      "training...: 100%|██████████| 59/59 [00:16<00:00,  3.66it/s]\n",
      "evaluating...: 100%|██████████| 20/20 [00:05<00:00,  3.33it/s]"
     ]
    },
    {
     "name": "stdout",
     "output_type": "stream",
     "text": [
      "Epoch: [50/50]\n",
      "Train Loss: 0.5347\tValid Loss: 1.2716\n"
     ]
    },
    {
     "name": "stderr",
     "output_type": "stream",
     "text": [
      "\n"
     ]
    }
   ],
   "source": [
    "results = graph_train(args, models, train_loader, valid_loader, optimizer, criterion)"
   ]
  },
  {
   "cell_type": "code",
   "execution_count": 36,
   "metadata": {},
   "outputs": [
    {
     "name": "stderr",
     "output_type": "stream",
     "text": [
      "evaluating...: 100%|██████████| 20/20 [00:05<00:00,  3.63it/s]"
     ]
    },
    {
     "name": "stdout",
     "output_type": "stream",
     "text": [
      "Test Loss: 1.2731\n"
     ]
    },
    {
     "name": "stderr",
     "output_type": "stream",
     "text": [
      "\n"
     ]
    }
   ],
   "source": [
    "results =graph_evaluate(args, models, test_loader, criterion)"
   ]
  },
  {
   "cell_type": "code",
   "execution_count": null,
   "metadata": {},
   "outputs": [],
   "source": []
  }
 ],
 "metadata": {
  "kernelspec": {
   "display_name": "Python 3 (ipykernel)",
   "language": "python",
   "name": "python3"
  },
  "language_info": {
   "codemirror_mode": {
    "name": "ipython",
    "version": 3
   },
   "file_extension": ".py",
   "mimetype": "text/x-python",
   "name": "python",
   "nbconvert_exporter": "python",
   "pygments_lexer": "ipython3",
   "version": "3.9.16"
  },
  "vscode": {
   "interpreter": {
    "hash": "d4d1e4263499bec80672ea0156c357c1ee493ec2b1c70f0acce89fc37c4a6abe"
   }
  }
 },
 "nbformat": 4,
 "nbformat_minor": 4
}
